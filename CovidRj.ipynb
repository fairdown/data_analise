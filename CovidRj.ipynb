{
  "nbformat": 4,
  "nbformat_minor": 0,
  "metadata": {
    "colab": {
      "name": "CovidRj.ipynb",
      "provenance": [],
      "authorship_tag": "ABX9TyNyg6O5esnYKlnWAqn4mUs1",
      "include_colab_link": true
    },
    "kernelspec": {
      "name": "python3",
      "display_name": "Python 3"
    }
  },
  "cells": [
    {
      "cell_type": "markdown",
      "metadata": {
        "id": "view-in-github",
        "colab_type": "text"
      },
      "source": [
        "<a href=\"https://colab.research.google.com/github/fairdown/data_analise/blob/master/CovidRj.ipynb\" target=\"_parent\"><img src=\"https://colab.research.google.com/assets/colab-badge.svg\" alt=\"Open In Colab\"/></a>"
      ]
    },
    {
      "cell_type": "markdown",
      "metadata": {
        "id": "11loG2qANb8h",
        "colab_type": "text"
      },
      "source": [
        "#Trazendo os Casos de COVID do RJ do dia 03/05/2020"
      ]
    },
    {
      "cell_type": "code",
      "metadata": {
        "id": "lOWeX5OlChG7",
        "colab_type": "code",
        "outputId": "51d4de69-ed3a-4bcf-d137-d58d94a93555",
        "colab": {
          "base_uri": "https://localhost:8080/",
          "height": 221
        }
      },
      "source": [
        "!pip install squarify\n",
        "import matplotlib.pyplot as plt\n",
        "import seaborn as sns\n",
        "import pandas as pd\n",
        "\n",
        "covidrj = pd.read_csv(\"/content/covid19-RJ.csv\")\n",
        "covidrj.head()"
      ],
      "execution_count": 0,
      "outputs": [
        {
          "output_type": "stream",
          "text": [
            "Requirement already satisfied: squarify in /usr/local/lib/python3.6/dist-packages (0.4.3)\n"
          ],
          "name": "stdout"
        },
        {
          "output_type": "execute_result",
          "data": {
            "text/html": [
              "<div>\n",
              "<style scoped>\n",
              "    .dataframe tbody tr th:only-of-type {\n",
              "        vertical-align: middle;\n",
              "    }\n",
              "\n",
              "    .dataframe tbody tr th {\n",
              "        vertical-align: top;\n",
              "    }\n",
              "\n",
              "    .dataframe thead th {\n",
              "        text-align: right;\n",
              "    }\n",
              "</style>\n",
              "<table border=\"1\" class=\"dataframe\">\n",
              "  <thead>\n",
              "    <tr style=\"text-align: right;\">\n",
              "      <th></th>\n",
              "      <th>date</th>\n",
              "      <th>state</th>\n",
              "      <th>city</th>\n",
              "      <th>place_type</th>\n",
              "      <th>confirmed</th>\n",
              "      <th>deaths</th>\n",
              "      <th>is_last</th>\n",
              "      <th>estimated_population_2019</th>\n",
              "      <th>city_ibge_code</th>\n",
              "      <th>confirmed_per_100k_inhabitants</th>\n",
              "      <th>death_rate</th>\n",
              "    </tr>\n",
              "  </thead>\n",
              "  <tbody>\n",
              "    <tr>\n",
              "      <th>0</th>\n",
              "      <td>2020-05-03</td>\n",
              "      <td>RJ</td>\n",
              "      <td>Angra dos Reis</td>\n",
              "      <td>city</td>\n",
              "      <td>56</td>\n",
              "      <td>0</td>\n",
              "      <td>True</td>\n",
              "      <td>203785.0</td>\n",
              "      <td>3300100.0</td>\n",
              "      <td>27.47994</td>\n",
              "      <td>0.0000</td>\n",
              "    </tr>\n",
              "    <tr>\n",
              "      <th>1</th>\n",
              "      <td>2020-05-03</td>\n",
              "      <td>RJ</td>\n",
              "      <td>Aperibé</td>\n",
              "      <td>city</td>\n",
              "      <td>2</td>\n",
              "      <td>0</td>\n",
              "      <td>True</td>\n",
              "      <td>11759.0</td>\n",
              "      <td>3300159.0</td>\n",
              "      <td>17.00825</td>\n",
              "      <td>0.0000</td>\n",
              "    </tr>\n",
              "    <tr>\n",
              "      <th>2</th>\n",
              "      <td>2020-05-03</td>\n",
              "      <td>RJ</td>\n",
              "      <td>Araruama</td>\n",
              "      <td>city</td>\n",
              "      <td>33</td>\n",
              "      <td>1</td>\n",
              "      <td>True</td>\n",
              "      <td>132400.0</td>\n",
              "      <td>3300209.0</td>\n",
              "      <td>24.92447</td>\n",
              "      <td>0.0303</td>\n",
              "    </tr>\n",
              "    <tr>\n",
              "      <th>3</th>\n",
              "      <td>2020-05-03</td>\n",
              "      <td>RJ</td>\n",
              "      <td>Areal</td>\n",
              "      <td>city</td>\n",
              "      <td>3</td>\n",
              "      <td>0</td>\n",
              "      <td>True</td>\n",
              "      <td>12572.0</td>\n",
              "      <td>3300225.0</td>\n",
              "      <td>23.86255</td>\n",
              "      <td>0.0000</td>\n",
              "    </tr>\n",
              "    <tr>\n",
              "      <th>4</th>\n",
              "      <td>2020-05-03</td>\n",
              "      <td>RJ</td>\n",
              "      <td>Armação dos Búzios</td>\n",
              "      <td>city</td>\n",
              "      <td>13</td>\n",
              "      <td>0</td>\n",
              "      <td>True</td>\n",
              "      <td>33870.0</td>\n",
              "      <td>3300233.0</td>\n",
              "      <td>38.38205</td>\n",
              "      <td>0.0000</td>\n",
              "    </tr>\n",
              "  </tbody>\n",
              "</table>\n",
              "</div>"
            ],
            "text/plain": [
              "         date state  ... confirmed_per_100k_inhabitants death_rate\n",
              "0  2020-05-03    RJ  ...                       27.47994     0.0000\n",
              "1  2020-05-03    RJ  ...                       17.00825     0.0000\n",
              "2  2020-05-03    RJ  ...                       24.92447     0.0303\n",
              "3  2020-05-03    RJ  ...                       23.86255     0.0000\n",
              "4  2020-05-03    RJ  ...                       38.38205     0.0000\n",
              "\n",
              "[5 rows x 11 columns]"
            ]
          },
          "metadata": {
            "tags": []
          },
          "execution_count": 229
        }
      ]
    },
    {
      "cell_type": "markdown",
      "metadata": {
        "id": "JxTigKUXNnpo",
        "colab_type": "text"
      },
      "source": [
        "#Buscando os Casos e Renomeando as Colunas"
      ]
    },
    {
      "cell_type": "code",
      "metadata": {
        "id": "e2XIX4ljC44A",
        "colab_type": "code",
        "outputId": "01c39664-a06d-414f-b355-1ee11e71bcd0",
        "colab": {
          "base_uri": "https://localhost:8080/",
          "height": 204
        }
      },
      "source": [
        "covidrj_casos = covidrj[[\"city\", \"confirmed\"]]\n",
        "covidrj_casos.columns = ['cidades', 'casos']\n",
        "\n",
        "covidrj_casos.head()"
      ],
      "execution_count": 0,
      "outputs": [
        {
          "output_type": "execute_result",
          "data": {
            "text/html": [
              "<div>\n",
              "<style scoped>\n",
              "    .dataframe tbody tr th:only-of-type {\n",
              "        vertical-align: middle;\n",
              "    }\n",
              "\n",
              "    .dataframe tbody tr th {\n",
              "        vertical-align: top;\n",
              "    }\n",
              "\n",
              "    .dataframe thead th {\n",
              "        text-align: right;\n",
              "    }\n",
              "</style>\n",
              "<table border=\"1\" class=\"dataframe\">\n",
              "  <thead>\n",
              "    <tr style=\"text-align: right;\">\n",
              "      <th></th>\n",
              "      <th>cidades</th>\n",
              "      <th>casos</th>\n",
              "    </tr>\n",
              "  </thead>\n",
              "  <tbody>\n",
              "    <tr>\n",
              "      <th>0</th>\n",
              "      <td>Angra dos Reis</td>\n",
              "      <td>56</td>\n",
              "    </tr>\n",
              "    <tr>\n",
              "      <th>1</th>\n",
              "      <td>Aperibé</td>\n",
              "      <td>2</td>\n",
              "    </tr>\n",
              "    <tr>\n",
              "      <th>2</th>\n",
              "      <td>Araruama</td>\n",
              "      <td>33</td>\n",
              "    </tr>\n",
              "    <tr>\n",
              "      <th>3</th>\n",
              "      <td>Areal</td>\n",
              "      <td>3</td>\n",
              "    </tr>\n",
              "    <tr>\n",
              "      <th>4</th>\n",
              "      <td>Armação dos Búzios</td>\n",
              "      <td>13</td>\n",
              "    </tr>\n",
              "  </tbody>\n",
              "</table>\n",
              "</div>"
            ],
            "text/plain": [
              "              cidades  casos\n",
              "0      Angra dos Reis     56\n",
              "1             Aperibé      2\n",
              "2            Araruama     33\n",
              "3               Areal      3\n",
              "4  Armação dos Búzios     13"
            ]
          },
          "metadata": {
            "tags": []
          },
          "execution_count": 237
        }
      ]
    },
    {
      "cell_type": "markdown",
      "metadata": {
        "id": "w0xTYuQ9byWm",
        "colab_type": "text"
      },
      "source": [
        "#Organizando as linhas da coluna cidade"
      ]
    },
    {
      "cell_type": "code",
      "metadata": {
        "id": "jXXzNc8IbsHg",
        "colab_type": "code",
        "outputId": "a55b912e-d8d5-485c-8b2a-430f56057824",
        "colab": {
          "base_uri": "https://localhost:8080/",
          "height": 204
        }
      },
      "source": [
        "covidrj_casos = covidrj_casos.dropna()\n",
        "covidrj_casos = covidrj_casos.query('cidades!=\"Importados/Indefinidos\"')\n",
        "\n",
        "covidrj_casos = covidrj_casos.sort_values('casos', ascending=False)\n",
        "covidrj_casos.head()"
      ],
      "execution_count": 0,
      "outputs": [
        {
          "output_type": "execute_result",
          "data": {
            "text/html": [
              "<div>\n",
              "<style scoped>\n",
              "    .dataframe tbody tr th:only-of-type {\n",
              "        vertical-align: middle;\n",
              "    }\n",
              "\n",
              "    .dataframe tbody tr th {\n",
              "        vertical-align: top;\n",
              "    }\n",
              "\n",
              "    .dataframe thead th {\n",
              "        text-align: right;\n",
              "    }\n",
              "</style>\n",
              "<table border=\"1\" class=\"dataframe\">\n",
              "  <thead>\n",
              "    <tr style=\"text-align: right;\">\n",
              "      <th></th>\n",
              "      <th>cidades</th>\n",
              "      <th>casos</th>\n",
              "    </tr>\n",
              "  </thead>\n",
              "  <tbody>\n",
              "    <tr>\n",
              "      <th>60</th>\n",
              "      <td>Rio de Janeiro</td>\n",
              "      <td>6750</td>\n",
              "    </tr>\n",
              "    <tr>\n",
              "      <th>20</th>\n",
              "      <td>Duque de Caxias</td>\n",
              "      <td>484</td>\n",
              "    </tr>\n",
              "    <tr>\n",
              "      <th>43</th>\n",
              "      <td>Nova Iguaçu</td>\n",
              "      <td>435</td>\n",
              "    </tr>\n",
              "    <tr>\n",
              "      <th>41</th>\n",
              "      <td>Niterói</td>\n",
              "      <td>422</td>\n",
              "    </tr>\n",
              "    <tr>\n",
              "      <th>83</th>\n",
              "      <td>Volta Redonda</td>\n",
              "      <td>341</td>\n",
              "    </tr>\n",
              "  </tbody>\n",
              "</table>\n",
              "</div>"
            ],
            "text/plain": [
              "            cidades  casos\n",
              "60   Rio de Janeiro   6750\n",
              "20  Duque de Caxias    484\n",
              "43      Nova Iguaçu    435\n",
              "41          Niterói    422\n",
              "83    Volta Redonda    341"
            ]
          },
          "metadata": {
            "tags": []
          },
          "execution_count": 236
        }
      ]
    },
    {
      "cell_type": "markdown",
      "metadata": {
        "id": "p19RC8-mN88A",
        "colab_type": "text"
      },
      "source": [
        "#Separando cidade do RJ das demais cidades"
      ]
    },
    {
      "cell_type": "code",
      "metadata": {
        "id": "HFO0K5dHHtY9",
        "colab_type": "code",
        "outputId": "2f31de0b-6d80-4ebe-82d1-960473a4ea32",
        "colab": {
          "base_uri": "https://localhost:8080/",
          "height": 80
        }
      },
      "source": [
        "covid_RJ = covidrj_casos[covidrj_casos['cidades']=='Rio de Janeiro']\n",
        "covid_RJ"
      ],
      "execution_count": 0,
      "outputs": [
        {
          "output_type": "execute_result",
          "data": {
            "text/html": [
              "<div>\n",
              "<style scoped>\n",
              "    .dataframe tbody tr th:only-of-type {\n",
              "        vertical-align: middle;\n",
              "    }\n",
              "\n",
              "    .dataframe tbody tr th {\n",
              "        vertical-align: top;\n",
              "    }\n",
              "\n",
              "    .dataframe thead th {\n",
              "        text-align: right;\n",
              "    }\n",
              "</style>\n",
              "<table border=\"1\" class=\"dataframe\">\n",
              "  <thead>\n",
              "    <tr style=\"text-align: right;\">\n",
              "      <th></th>\n",
              "      <th>cidades</th>\n",
              "      <th>casos</th>\n",
              "    </tr>\n",
              "  </thead>\n",
              "  <tbody>\n",
              "    <tr>\n",
              "      <th>60</th>\n",
              "      <td>Rio de Janeiro</td>\n",
              "      <td>6750</td>\n",
              "    </tr>\n",
              "  </tbody>\n",
              "</table>\n",
              "</div>"
            ],
            "text/plain": [
              "           cidades  casos\n",
              "60  Rio de Janeiro   6750"
            ]
          },
          "metadata": {
            "tags": []
          },
          "execution_count": 231
        }
      ]
    },
    {
      "cell_type": "code",
      "metadata": {
        "id": "wORQ8bg1JfIl",
        "colab_type": "code",
        "outputId": "06cabf4b-6d7e-4097-a648-2eb253def94e",
        "colab": {
          "base_uri": "https://localhost:8080/",
          "height": 204
        }
      },
      "source": [
        "covid_outros = covidrj_casos[covidrj_casos['cidades']!='Rio de Janeiro']\n",
        "covid_outros.head()"
      ],
      "execution_count": 0,
      "outputs": [
        {
          "output_type": "execute_result",
          "data": {
            "text/html": [
              "<div>\n",
              "<style scoped>\n",
              "    .dataframe tbody tr th:only-of-type {\n",
              "        vertical-align: middle;\n",
              "    }\n",
              "\n",
              "    .dataframe tbody tr th {\n",
              "        vertical-align: top;\n",
              "    }\n",
              "\n",
              "    .dataframe thead th {\n",
              "        text-align: right;\n",
              "    }\n",
              "</style>\n",
              "<table border=\"1\" class=\"dataframe\">\n",
              "  <thead>\n",
              "    <tr style=\"text-align: right;\">\n",
              "      <th></th>\n",
              "      <th>cidades</th>\n",
              "      <th>casos</th>\n",
              "    </tr>\n",
              "  </thead>\n",
              "  <tbody>\n",
              "    <tr>\n",
              "      <th>20</th>\n",
              "      <td>Duque de Caxias</td>\n",
              "      <td>484</td>\n",
              "    </tr>\n",
              "    <tr>\n",
              "      <th>43</th>\n",
              "      <td>Nova Iguaçu</td>\n",
              "      <td>435</td>\n",
              "    </tr>\n",
              "    <tr>\n",
              "      <th>41</th>\n",
              "      <td>Niterói</td>\n",
              "      <td>422</td>\n",
              "    </tr>\n",
              "    <tr>\n",
              "      <th>83</th>\n",
              "      <td>Volta Redonda</td>\n",
              "      <td>341</td>\n",
              "    </tr>\n",
              "    <tr>\n",
              "      <th>65</th>\n",
              "      <td>São Gonçalo</td>\n",
              "      <td>325</td>\n",
              "    </tr>\n",
              "  </tbody>\n",
              "</table>\n",
              "</div>"
            ],
            "text/plain": [
              "            cidades  casos\n",
              "20  Duque de Caxias    484\n",
              "43      Nova Iguaçu    435\n",
              "41          Niterói    422\n",
              "83    Volta Redonda    341\n",
              "65      São Gonçalo    325"
            ]
          },
          "metadata": {
            "tags": []
          },
          "execution_count": 232
        }
      ]
    },
    {
      "cell_type": "code",
      "metadata": {
        "id": "kmpJ9csXJwbl",
        "colab_type": "code",
        "outputId": "393d8962-99ee-43d9-d846-fd197f80b471",
        "colab": {
          "base_uri": "https://localhost:8080/",
          "height": 111
        }
      },
      "source": [
        "total_outros = covid_outros.casos.sum()\n",
        "total_rj = int(covid_RJ.casos)\n",
        "\n",
        "dados = { 'cidades':['Rio de Janeiro', 'Outras Cidades'],\n",
        "        'casos':[total_rj, total_outros]\n",
        "      }\n",
        "c19 = pd.DataFrame(dados)\n",
        "c19"
      ],
      "execution_count": 0,
      "outputs": [
        {
          "output_type": "execute_result",
          "data": {
            "text/html": [
              "<div>\n",
              "<style scoped>\n",
              "    .dataframe tbody tr th:only-of-type {\n",
              "        vertical-align: middle;\n",
              "    }\n",
              "\n",
              "    .dataframe tbody tr th {\n",
              "        vertical-align: top;\n",
              "    }\n",
              "\n",
              "    .dataframe thead th {\n",
              "        text-align: right;\n",
              "    }\n",
              "</style>\n",
              "<table border=\"1\" class=\"dataframe\">\n",
              "  <thead>\n",
              "    <tr style=\"text-align: right;\">\n",
              "      <th></th>\n",
              "      <th>cidades</th>\n",
              "      <th>casos</th>\n",
              "    </tr>\n",
              "  </thead>\n",
              "  <tbody>\n",
              "    <tr>\n",
              "      <th>0</th>\n",
              "      <td>Rio de Janeiro</td>\n",
              "      <td>6750</td>\n",
              "    </tr>\n",
              "    <tr>\n",
              "      <th>1</th>\n",
              "      <td>Outras Cidades</td>\n",
              "      <td>4389</td>\n",
              "    </tr>\n",
              "  </tbody>\n",
              "</table>\n",
              "</div>"
            ],
            "text/plain": [
              "          cidades  casos\n",
              "0  Rio de Janeiro   6750\n",
              "1  Outras Cidades   4389"
            ]
          },
          "metadata": {
            "tags": []
          },
          "execution_count": 233
        }
      ]
    },
    {
      "cell_type": "markdown",
      "metadata": {
        "id": "avbYvzgWOJoO",
        "colab_type": "text"
      },
      "source": [
        "#Comparando a cidade do Rio de Janeiro com as soma das demais cidades"
      ]
    },
    {
      "cell_type": "code",
      "metadata": {
        "id": "qFDOLTsFR4t3",
        "colab_type": "code",
        "outputId": "0a461387-9f77-41e6-89a2-6aa9bc385083",
        "colab": {
          "base_uri": "https://localhost:8080/",
          "height": 298
        }
      },
      "source": [
        "sns.barplot(data = c19, x = 'cidades', y = 'casos')"
      ],
      "execution_count": 0,
      "outputs": [
        {
          "output_type": "execute_result",
          "data": {
            "text/plain": [
              "<matplotlib.axes._subplots.AxesSubplot at 0x7f735cf31f28>"
            ]
          },
          "metadata": {
            "tags": []
          },
          "execution_count": 234
        },
        {
          "output_type": "display_data",
          "data": {
            "image/png": "[encoded data removed]",
            "text/plain": [
              "<Figure size 432x288 with 1 Axes>"
            ]
          },
          "metadata": {
            "tags": [],
            "needs_background": "light"
          }
        }
      ]
    },
    {
      "cell_type": "markdown",
      "metadata": {
        "id": "OLPpLLAkcEE2",
        "colab_type": "text"
      },
      "source": [
        "#Comparativo com as outras cidades do Estado do Rio de Janeiro"
      ]
    },
    {
      "cell_type": "code",
      "metadata": {
        "id": "8MkEXhMgSe_D",
        "colab_type": "code",
        "outputId": "518a3e6b-c50f-4836-bdfa-de0316951cf0",
        "colab": {
          "base_uri": "https://localhost:8080/",
          "height": 1000
        }
      },
      "source": [
        "\n",
        "sns.catplot(data=covid_outros, x='casos', y= 'cidades', kind='bar', palette= 'GnBu_d',  height= 15, aspect=1.2)"
      ],
      "execution_count": 0,
      "outputs": [
        {
          "output_type": "execute_result",
          "data": {
            "text/plain": [
              "<seaborn.axisgrid.FacetGrid at 0x7f735afdbb00>"
            ]
          },
          "metadata": {
            "tags": []
          },
          "execution_count": 242
        },
        {
          "output_type": "display_data",
          "data": {
            "image/png": "[encoded data removed]",
            "text/plain": [
              "<Figure size 1296x1080 with 1 Axes>"
            ]
          },
          "metadata": {
            "tags": [],
            "needs_background": "light"
          }
        }
      ]
    },
    {
      "cell_type": "code",
      "metadata": {
        "id": "-l40AeSrcKDk",
        "colab_type": "code",
        "colab": {}
      },
      "source": [
        ""
      ],
      "execution_count": 0,
      "outputs": []
    }
  ]
}