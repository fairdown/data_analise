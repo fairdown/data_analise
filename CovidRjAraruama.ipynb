{
  "nbformat": 4,
  "nbformat_minor": 0,
  "metadata": {
    "colab": {
      "name": "CovidRjAraruama.ipynb",
      "provenance": [],
      "toc_visible": true,
      "authorship_tag": "ABX9TyN/jNp32ed/p3ANZ/1LLiLg",
      "include_colab_link": true
    },
    "kernelspec": {
      "name": "python3",
      "display_name": "Python 3"
    }
  },
  "cells": [
    {
      "cell_type": "markdown",
      "metadata": {
        "id": "view-in-github",
        "colab_type": "text"
      },
      "source": [
        "<a href=\"https://colab.research.google.com/github/fairdown/data_analise/blob/master/CovidRjAraruama.ipynb\" target=\"_parent\"><img src=\"https://colab.research.google.com/assets/colab-badge.svg\" alt=\"Open In Colab\"/></a>"
      ]
    },
    {
      "cell_type": "markdown",
      "metadata": {
        "id": "_Fdt_6zXiMDk",
        "colab_type": "text"
      },
      "source": [
        "#Buscando Casos de COVID-19 no Estado do Rio de Janeiro"
      ]
    },
    {
      "cell_type": "code",
      "metadata": {
        "id": "GPXXx_rkTK0A",
        "colab_type": "code",
        "outputId": "732c4df3-ea6f-495e-ad7f-2c96c01aeba1",
        "colab": {
          "base_uri": "https://localhost:8080/",
          "height": 326
        }
      },
      "source": [
        "import pandas as pd\n",
        "covid = pd.read_csv(\"/content/covid19-4389703db6fc4694823124b5f8d641b4.csv\")\n",
        "covid.head()"
      ],
      "execution_count": 0,
      "outputs": [
        {
          "output_type": "execute_result",
          "data": {
            "text/html": [
              "<div>\n",
              "<style scoped>\n",
              "    .dataframe tbody tr th:only-of-type {\n",
              "        vertical-align: middle;\n",
              "    }\n",
              "\n",
              "    .dataframe tbody tr th {\n",
              "        vertical-align: top;\n",
              "    }\n",
              "\n",
              "    .dataframe thead th {\n",
              "        text-align: right;\n",
              "    }\n",
              "</style>\n",
              "<table border=\"1\" class=\"dataframe\">\n",
              "  <thead>\n",
              "    <tr style=\"text-align: right;\">\n",
              "      <th></th>\n",
              "      <th>date</th>\n",
              "      <th>state</th>\n",
              "      <th>city</th>\n",
              "      <th>place_type</th>\n",
              "      <th>confirmed</th>\n",
              "      <th>deaths</th>\n",
              "      <th>is_last</th>\n",
              "      <th>estimated_population_2019</th>\n",
              "      <th>city_ibge_code</th>\n",
              "      <th>confirmed_per_100k_inhabitants</th>\n",
              "      <th>death_rate</th>\n",
              "    </tr>\n",
              "  </thead>\n",
              "  <tbody>\n",
              "    <tr>\n",
              "      <th>0</th>\n",
              "      <td>2020-05-03</td>\n",
              "      <td>RJ</td>\n",
              "      <td>Angra dos Reis</td>\n",
              "      <td>city</td>\n",
              "      <td>56</td>\n",
              "      <td>0</td>\n",
              "      <td>True</td>\n",
              "      <td>203785.0</td>\n",
              "      <td>3300100.0</td>\n",
              "      <td>27.47994</td>\n",
              "      <td>0.0000</td>\n",
              "    </tr>\n",
              "    <tr>\n",
              "      <th>1</th>\n",
              "      <td>2020-05-03</td>\n",
              "      <td>RJ</td>\n",
              "      <td>Aperibé</td>\n",
              "      <td>city</td>\n",
              "      <td>2</td>\n",
              "      <td>0</td>\n",
              "      <td>True</td>\n",
              "      <td>11759.0</td>\n",
              "      <td>3300159.0</td>\n",
              "      <td>17.00825</td>\n",
              "      <td>0.0000</td>\n",
              "    </tr>\n",
              "    <tr>\n",
              "      <th>2</th>\n",
              "      <td>2020-05-03</td>\n",
              "      <td>RJ</td>\n",
              "      <td>Araruama</td>\n",
              "      <td>city</td>\n",
              "      <td>33</td>\n",
              "      <td>1</td>\n",
              "      <td>True</td>\n",
              "      <td>132400.0</td>\n",
              "      <td>3300209.0</td>\n",
              "      <td>24.92447</td>\n",
              "      <td>0.0303</td>\n",
              "    </tr>\n",
              "    <tr>\n",
              "      <th>3</th>\n",
              "      <td>2020-05-03</td>\n",
              "      <td>RJ</td>\n",
              "      <td>Areal</td>\n",
              "      <td>city</td>\n",
              "      <td>3</td>\n",
              "      <td>0</td>\n",
              "      <td>True</td>\n",
              "      <td>12572.0</td>\n",
              "      <td>3300225.0</td>\n",
              "      <td>23.86255</td>\n",
              "      <td>0.0000</td>\n",
              "    </tr>\n",
              "    <tr>\n",
              "      <th>4</th>\n",
              "      <td>2020-05-03</td>\n",
              "      <td>RJ</td>\n",
              "      <td>Armação dos Búzios</td>\n",
              "      <td>city</td>\n",
              "      <td>13</td>\n",
              "      <td>0</td>\n",
              "      <td>True</td>\n",
              "      <td>33870.0</td>\n",
              "      <td>3300233.0</td>\n",
              "      <td>38.38205</td>\n",
              "      <td>0.0000</td>\n",
              "    </tr>\n",
              "  </tbody>\n",
              "</table>\n",
              "</div>"
            ],
            "text/plain": [
              "         date state  ... confirmed_per_100k_inhabitants death_rate\n",
              "0  2020-05-03    RJ  ...                       27.47994     0.0000\n",
              "1  2020-05-03    RJ  ...                       17.00825     0.0000\n",
              "2  2020-05-03    RJ  ...                       24.92447     0.0303\n",
              "3  2020-05-03    RJ  ...                       23.86255     0.0000\n",
              "4  2020-05-03    RJ  ...                       38.38205     0.0000\n",
              "\n",
              "[5 rows x 11 columns]"
            ]
          },
          "metadata": {
            "tags": []
          },
          "execution_count": 2
        }
      ]
    },
    {
      "cell_type": "markdown",
      "metadata": {
        "id": "tTgMZctxiGeM",
        "colab_type": "text"
      },
      "source": [
        "#Ajustando Colunas"
      ]
    },
    {
      "cell_type": "code",
      "metadata": {
        "id": "j7fXn8UvTzOJ",
        "colab_type": "code",
        "outputId": "05191e40-6121-42e2-b6e7-e43ee4c77e22",
        "colab": {
          "base_uri": "https://localhost:8080/",
          "height": 204
        }
      },
      "source": [
        "covid_ref = covid[['date', 'city', 'confirmed', 'deaths', 'estimated_population_2019', 'confirmed_per_100k_inhabitants']]\n",
        "covid_ref.columns = ['data', 'cidade', 'casos', 'mortes', 'populacao', 'habitantes_por_100k' ]\n",
        "covid = covid_ref.dropna()\n",
        "covid.head()"
      ],
      "execution_count": 0,
      "outputs": [
        {
          "output_type": "execute_result",
          "data": {
            "text/html": [
              "<div>\n",
              "<style scoped>\n",
              "    .dataframe tbody tr th:only-of-type {\n",
              "        vertical-align: middle;\n",
              "    }\n",
              "\n",
              "    .dataframe tbody tr th {\n",
              "        vertical-align: top;\n",
              "    }\n",
              "\n",
              "    .dataframe thead th {\n",
              "        text-align: right;\n",
              "    }\n",
              "</style>\n",
              "<table border=\"1\" class=\"dataframe\">\n",
              "  <thead>\n",
              "    <tr style=\"text-align: right;\">\n",
              "      <th></th>\n",
              "      <th>data</th>\n",
              "      <th>cidade</th>\n",
              "      <th>casos</th>\n",
              "      <th>mortes</th>\n",
              "      <th>populacao</th>\n",
              "      <th>habitantes_por_100k</th>\n",
              "    </tr>\n",
              "  </thead>\n",
              "  <tbody>\n",
              "    <tr>\n",
              "      <th>0</th>\n",
              "      <td>2020-05-03</td>\n",
              "      <td>Angra dos Reis</td>\n",
              "      <td>56</td>\n",
              "      <td>0</td>\n",
              "      <td>203785.0</td>\n",
              "      <td>27.47994</td>\n",
              "    </tr>\n",
              "    <tr>\n",
              "      <th>1</th>\n",
              "      <td>2020-05-03</td>\n",
              "      <td>Aperibé</td>\n",
              "      <td>2</td>\n",
              "      <td>0</td>\n",
              "      <td>11759.0</td>\n",
              "      <td>17.00825</td>\n",
              "    </tr>\n",
              "    <tr>\n",
              "      <th>2</th>\n",
              "      <td>2020-05-03</td>\n",
              "      <td>Araruama</td>\n",
              "      <td>33</td>\n",
              "      <td>1</td>\n",
              "      <td>132400.0</td>\n",
              "      <td>24.92447</td>\n",
              "    </tr>\n",
              "    <tr>\n",
              "      <th>3</th>\n",
              "      <td>2020-05-03</td>\n",
              "      <td>Areal</td>\n",
              "      <td>3</td>\n",
              "      <td>0</td>\n",
              "      <td>12572.0</td>\n",
              "      <td>23.86255</td>\n",
              "    </tr>\n",
              "    <tr>\n",
              "      <th>4</th>\n",
              "      <td>2020-05-03</td>\n",
              "      <td>Armação dos Búzios</td>\n",
              "      <td>13</td>\n",
              "      <td>0</td>\n",
              "      <td>33870.0</td>\n",
              "      <td>38.38205</td>\n",
              "    </tr>\n",
              "  </tbody>\n",
              "</table>\n",
              "</div>"
            ],
            "text/plain": [
              "         data              cidade  ...  populacao  habitantes_por_100k\n",
              "0  2020-05-03      Angra dos Reis  ...   203785.0             27.47994\n",
              "1  2020-05-03             Aperibé  ...    11759.0             17.00825\n",
              "2  2020-05-03            Araruama  ...   132400.0             24.92447\n",
              "3  2020-05-03               Areal  ...    12572.0             23.86255\n",
              "4  2020-05-03  Armação dos Búzios  ...    33870.0             38.38205\n",
              "\n",
              "[5 rows x 6 columns]"
            ]
          },
          "metadata": {
            "tags": []
          },
          "execution_count": 3
        }
      ]
    },
    {
      "cell_type": "markdown",
      "metadata": {
        "id": "L9G9P9TFimZA",
        "colab_type": "text"
      },
      "source": [
        "#Buscando Dados da Cidade de Araruama"
      ]
    },
    {
      "cell_type": "code",
      "metadata": {
        "id": "5ikOV1bGXGMA",
        "colab_type": "code",
        "outputId": "14084cf0-6dea-45bf-fed8-528c9af27319",
        "colab": {
          "base_uri": "https://localhost:8080/",
          "height": 204
        }
      },
      "source": [
        "covid_araruama = covid.query(\"cidade=='Araruama'\")\n",
        "covid_casos_araruama = covid_araruama[[\"data\", \"casos\", \"mortes\"]]\n",
        "covid_casos_araruama.head()"
      ],
      "execution_count": 0,
      "outputs": [
        {
          "output_type": "execute_result",
          "data": {
            "text/html": [
              "<div>\n",
              "<style scoped>\n",
              "    .dataframe tbody tr th:only-of-type {\n",
              "        vertical-align: middle;\n",
              "    }\n",
              "\n",
              "    .dataframe tbody tr th {\n",
              "        vertical-align: top;\n",
              "    }\n",
              "\n",
              "    .dataframe thead th {\n",
              "        text-align: right;\n",
              "    }\n",
              "</style>\n",
              "<table border=\"1\" class=\"dataframe\">\n",
              "  <thead>\n",
              "    <tr style=\"text-align: right;\">\n",
              "      <th></th>\n",
              "      <th>data</th>\n",
              "      <th>casos</th>\n",
              "      <th>mortes</th>\n",
              "    </tr>\n",
              "  </thead>\n",
              "  <tbody>\n",
              "    <tr>\n",
              "      <th>2</th>\n",
              "      <td>2020-05-03</td>\n",
              "      <td>33</td>\n",
              "      <td>1</td>\n",
              "    </tr>\n",
              "    <tr>\n",
              "      <th>87</th>\n",
              "      <td>2020-05-02</td>\n",
              "      <td>33</td>\n",
              "      <td>1</td>\n",
              "    </tr>\n",
              "    <tr>\n",
              "      <th>172</th>\n",
              "      <td>2020-05-01</td>\n",
              "      <td>33</td>\n",
              "      <td>1</td>\n",
              "    </tr>\n",
              "    <tr>\n",
              "      <th>256</th>\n",
              "      <td>2020-04-30</td>\n",
              "      <td>31</td>\n",
              "      <td>1</td>\n",
              "    </tr>\n",
              "    <tr>\n",
              "      <th>339</th>\n",
              "      <td>2020-04-29</td>\n",
              "      <td>31</td>\n",
              "      <td>1</td>\n",
              "    </tr>\n",
              "  </tbody>\n",
              "</table>\n",
              "</div>"
            ],
            "text/plain": [
              "           data  casos  mortes\n",
              "2    2020-05-03     33       1\n",
              "87   2020-05-02     33       1\n",
              "172  2020-05-01     33       1\n",
              "256  2020-04-30     31       1\n",
              "339  2020-04-29     31       1"
            ]
          },
          "metadata": {
            "tags": []
          },
          "execution_count": 4
        }
      ]
    },
    {
      "cell_type": "markdown",
      "metadata": {
        "id": "oryD3Kkui7Fy",
        "colab_type": "text"
      },
      "source": [
        "#Gerando Gráfico"
      ]
    },
    {
      "cell_type": "code",
      "metadata": {
        "id": "AOyX2nstYr03",
        "colab_type": "code",
        "outputId": "161f5842-18d3-4b3f-978f-cedb91cf2de1",
        "colab": {
          "base_uri": "https://localhost:8080/",
          "height": 638
        }
      },
      "source": [
        "covid_casos_araruama = covid_casos_araruama.sort_values(by=\"data\")\n",
        "covid_casos_araruama.plot.area(x=\"data\", y=[\"mortes\", \"casos\"], figsize=(15,10), title=\"Covid Araruama\", grid=True)"
      ],
      "execution_count": 0,
      "outputs": [
        {
          "output_type": "execute_result",
          "data": {
            "text/plain": [
              "<matplotlib.axes._subplots.AxesSubplot at 0x7fc5ddc9e3c8>"
            ]
          },
          "metadata": {
            "tags": []
          },
          "execution_count": 5
        },
        {
          "output_type": "display_data",
          "data": {
            "image/png": "[encoded data removed]",
            "text/plain": [
              "<Figure size 1080x720 with 1 Axes>"
            ]
          },
          "metadata": {
            "tags": [],
            "needs_background": "light"
          }
        }
      ]
    },
    {
      "cell_type": "code",
      "metadata": {
        "id": "TKUPBq3ni9j-",
        "colab_type": "code",
        "colab": {}
      },
      "source": [
        ""
      ],
      "execution_count": 0,
      "outputs": []
    }
  ]
}